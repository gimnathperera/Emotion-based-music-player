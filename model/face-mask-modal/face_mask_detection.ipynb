{
  "cells": [
    {
      "cell_type": "code",
      "execution_count": null,
      "id": "03a2a900",
      "metadata": {
        "_cell_guid": "b1076dfc-b9ad-4769-8c92-a6c4dae69d19",
        "_uuid": "8f2839f25d086af736a60e9eeb907d3b93b6e0e5",
        "execution": {
          "iopub.execute_input": "2023-04-12T18:42:16.208860Z",
          "iopub.status.busy": "2023-04-12T18:42:16.208376Z",
          "iopub.status.idle": "2023-04-12T18:42:23.091896Z",
          "shell.execute_reply": "2023-04-12T18:42:23.090848Z"
        },
        "papermill": {
          "duration": 6.906157,
          "end_time": "2023-04-12T18:42:23.106243",
          "exception": false,
          "start_time": "2023-04-12T18:42:16.200086",
          "status": "completed"
        },
        "tags": [],
        "id": "03a2a900"
      },
      "outputs": [],
      "source": [
        "\n",
        "import numpy as np # linear algebra\n",
        "import pandas as pd # data processing, CSV file I/O (e.g. pd.read_csv)\n",
        "\n",
        "import os\n",
        "for dirname, _, filenames in os.walk('input'):\n",
        "    for filename in filenames:\n",
        "        print(os.path.join(dirname, filename))\n"
      ]
    },
    {
      "cell_type": "markdown",
      "id": "be4cb196",
      "metadata": {
        "papermill": {
          "duration": 0.014953,
          "end_time": "2023-04-12T18:42:23.156994",
          "exception": false,
          "start_time": "2023-04-12T18:42:23.142041",
          "status": "completed"
        },
        "tags": [],
        "id": "be4cb196"
      },
      "source": [
        "### import all required libraries"
      ]
    },
    {
      "cell_type": "code",
      "execution_count": null,
      "id": "092acfe4",
      "metadata": {
        "execution": {
          "iopub.execute_input": "2023-04-12T18:42:23.188464Z",
          "iopub.status.busy": "2023-04-12T18:42:23.188048Z",
          "iopub.status.idle": "2023-04-12T18:42:30.503295Z",
          "shell.execute_reply": "2023-04-12T18:42:30.502126Z"
        },
        "papermill": {
          "duration": 7.334135,
          "end_time": "2023-04-12T18:42:30.505997",
          "exception": false,
          "start_time": "2023-04-12T18:42:23.171862",
          "status": "completed"
        },
        "tags": [],
        "id": "092acfe4"
      },
      "outputs": [],
      "source": [
        "import matplotlib.pyplot as plt\n",
        "from PIL import Image\n",
        "from keras.models import Sequential\n",
        "import keras, shutil\n",
        "from keras.layers import Conv2D, MaxPooling2D, Flatten, Dense, AveragePooling2D, Input, BatchNormalization, Activation, Add\n",
        "from keras.initializers import glorot_uniform\n",
        "from keras.optimizers import Adam\n",
        "from keras.preprocessing.image import ImageDataGenerator"
      ]
    },
    {
      "cell_type": "markdown",
      "id": "451207d6",
      "metadata": {
        "papermill": {
          "duration": 0.015121,
          "end_time": "2023-04-12T18:42:30.537244",
          "exception": false,
          "start_time": "2023-04-12T18:42:30.522123",
          "status": "completed"
        },
        "tags": [],
        "id": "451207d6"
      },
      "source": [
        "##  Load the dataset"
      ]
    },
    {
      "cell_type": "code",
      "execution_count": null,
      "id": "e5ede2db",
      "metadata": {
        "execution": {
          "iopub.execute_input": "2023-04-12T18:42:30.568732Z",
          "iopub.status.busy": "2023-04-12T18:42:30.568040Z",
          "iopub.status.idle": "2023-04-12T18:42:30.585201Z",
          "shell.execute_reply": "2023-04-12T18:42:30.583752Z"
        },
        "papermill": {
          "duration": 0.03558,
          "end_time": "2023-04-12T18:42:30.587604",
          "exception": false,
          "start_time": "2023-04-12T18:42:30.552024",
          "status": "completed"
        },
        "tags": [],
        "id": "e5ede2db",
        "outputId": "97e00f57-70f7-4550-b016-4d24be50603f"
      },
      "outputs": [
        {
          "name": "stdout",
          "output_type": "stream",
          "text": [
            "['without_mask', 'mask_weared_incorrect', 'with_mask']\n",
            "with_mask samples:  2994\n",
            "without_mask samples:  2994\n"
          ]
        }
      ],
      "source": [
        "path = \"input/face-mask-detection/Dataset\"\n",
        "print(os.listdir(path))\n",
        "\n",
        "# print number of samples in each class\n",
        "print(\"with_mask samples: \", len(os.listdir(os.path.join(path, 'with_mask'))))\n",
        "print(\"without_mask samples: \", len(os.listdir(os.path.join(path, \"without_mask\"))))"
      ]
    },
    {
      "cell_type": "code",
      "execution_count": null,
      "id": "17c2dd07",
      "metadata": {
        "execution": {
          "iopub.execute_input": "2023-04-12T18:42:30.619233Z",
          "iopub.status.busy": "2023-04-12T18:42:30.618940Z",
          "iopub.status.idle": "2023-04-12T18:43:00.252923Z",
          "shell.execute_reply": "2023-04-12T18:43:00.251907Z"
        },
        "papermill": {
          "duration": 29.653306,
          "end_time": "2023-04-12T18:43:00.255618",
          "exception": false,
          "start_time": "2023-04-12T18:42:30.602312",
          "status": "completed"
        },
        "tags": [],
        "id": "17c2dd07"
      },
      "outputs": [],
      "source": [
        "os.mkdir('temp')\n",
        "os.mkdir('temp/with_mask')\n",
        "os.mkdir('temp/without_mask')\n",
        "\n",
        "for filename1, filename2 in zip(os.listdir(path + '/with_mask'), os.listdir(path + '/without_mask')):\n",
        "    shutil.copy(os.path.join(path, 'with_mask/' + filename1), 'temp/with_mask')\n",
        "    shutil.copy(os.path.join(path, 'without_mask/' + filename2), 'temp/without_mask')"
      ]
    },
    {
      "cell_type": "code",
      "execution_count": null,
      "id": "34b1724c",
      "metadata": {
        "execution": {
          "iopub.execute_input": "2023-04-12T18:43:00.319005Z",
          "iopub.status.busy": "2023-04-12T18:43:00.318354Z",
          "iopub.status.idle": "2023-04-12T18:43:00.326458Z",
          "shell.execute_reply": "2023-04-12T18:43:00.325353Z"
        },
        "papermill": {
          "duration": 0.027707,
          "end_time": "2023-04-12T18:43:00.329716",
          "exception": false,
          "start_time": "2023-04-12T18:43:00.302009",
          "status": "completed"
        },
        "tags": [],
        "id": "34b1724c",
        "outputId": "81b8ea06-b304-4d8d-98a7-40e86958361a"
      },
      "outputs": [
        {
          "name": "stdout",
          "output_type": "stream",
          "text": [
            "['with_mask', 'without_mask', 'train', 'val']\n"
          ]
        }
      ],
      "source": [
        "# create necessary directories for training and validation set\n",
        "temp_path = 'temp/'\n",
        "#os.mkdir(temp_path)\n",
        "\n",
        "os.mkdir(os.path.join(temp_path, 'train'))\n",
        "os.mkdir(os.path.join(temp_path, 'train/with_mask'))\n",
        "os.mkdir(os.path.join(temp_path, 'train/without_mask'))\n",
        "\n",
        "os.mkdir(os.path.join(temp_path, 'val'))\n",
        "os.mkdir(os.path.join(temp_path, 'val/with_mask'))\n",
        "os.mkdir(os.path.join(temp_path, 'val/without_mask'))\n",
        "\n",
        "# print directories\n",
        "print(os.listdir(temp_path))"
      ]
    },
    {
      "cell_type": "code",
      "execution_count": null,
      "id": "7cf406a0",
      "metadata": {
        "execution": {
          "iopub.execute_input": "2023-04-12T18:43:00.362469Z",
          "iopub.status.busy": "2023-04-12T18:43:00.361396Z",
          "iopub.status.idle": "2023-04-12T18:43:00.686179Z",
          "shell.execute_reply": "2023-04-12T18:43:00.685132Z"
        },
        "papermill": {
          "duration": 0.343828,
          "end_time": "2023-04-12T18:43:00.688718",
          "exception": false,
          "start_time": "2023-04-12T18:43:00.344890",
          "status": "completed"
        },
        "tags": [],
        "id": "7cf406a0"
      },
      "outputs": [],
      "source": [
        "# Move the data from 'input/face-mask-detection/data' to 'train' and 'val' directories\n",
        "\n",
        "path = 'temp/'\n",
        "\n",
        "# move to 'train' directory\n",
        "for filename in os.listdir(os.path.join(path, 'with_mask'))[0:2400]:\n",
        "    src_path = os.path.join(path, 'with_mask/' + filename)\n",
        "    dst_path = os.path.join(temp_path, 'train/with_mask/')\n",
        "    shutil.move(src_path, dst_path)\n",
        "\n",
        "for filename in os.listdir(os.path.join(path, 'without_mask'))[0:2400]:\n",
        "    src_path = os.path.join(path , 'without_mask/' + filename)\n",
        "    dst_path = os.path.join(temp_path, 'train/without_mask/')\n",
        "    shutil.move(src_path, dst_path)\n",
        "    \n",
        "# move rest of the files to the 'val' directory\n",
        "for filename in os.listdir(os.path.join(path, 'with_mask')):\n",
        "    src_path = os.path.join(path, 'with_mask/' + filename)\n",
        "    dst_path = os.path.join(temp_path, 'val/with_mask/')\n",
        "    shutil.move(src_path, dst_path)\n",
        "    \n",
        "for filename in os.listdir(os.path.join(path, 'without_mask')):\n",
        "    src_path = os.path.join(path, 'without_mask/' + filename)\n",
        "    dst_path = os.path.join(temp_path, 'val/without_mask/')\n",
        "    shutil.move(src_path, dst_path)"
      ]
    },
    {
      "cell_type": "code",
      "execution_count": null,
      "id": "0781b900",
      "metadata": {
        "execution": {
          "iopub.execute_input": "2023-04-12T18:43:00.723008Z",
          "iopub.status.busy": "2023-04-12T18:43:00.722690Z",
          "iopub.status.idle": "2023-04-12T18:43:00.729445Z",
          "shell.execute_reply": "2023-04-12T18:43:00.728347Z"
        },
        "papermill": {
          "duration": 0.026708,
          "end_time": "2023-04-12T18:43:00.731490",
          "exception": false,
          "start_time": "2023-04-12T18:43:00.704782",
          "status": "completed"
        },
        "tags": [],
        "id": "0781b900",
        "outputId": "d49cb9b4-02f6-48a7-a0ea-fea3dcac38d9"
      },
      "outputs": [
        {
          "name": "stdout",
          "output_type": "stream",
          "text": [
            "['train', 'val']\n"
          ]
        }
      ],
      "source": [
        "# remove 'with_mask' and 'without_mask' directory from 'temp/'\n",
        "os.rmdir(path + 'with_mask')\n",
        "os.rmdir(path + 'without_mask')\n",
        "\n",
        "print(os.listdir(path))"
      ]
    },
    {
      "cell_type": "code",
      "execution_count": null,
      "id": "28f28ea5",
      "metadata": {
        "execution": {
          "iopub.execute_input": "2023-04-12T18:43:00.763971Z",
          "iopub.status.busy": "2023-04-12T18:43:00.763638Z",
          "iopub.status.idle": "2023-04-12T18:43:00.775953Z",
          "shell.execute_reply": "2023-04-12T18:43:00.774959Z"
        },
        "papermill": {
          "duration": 0.031425,
          "end_time": "2023-04-12T18:43:00.778403",
          "exception": false,
          "start_time": "2023-04-12T18:43:00.746978",
          "status": "completed"
        },
        "tags": [],
        "id": "28f28ea5",
        "outputId": "4152d341-9180-49f0-d9eb-44d04ad238ae"
      },
      "outputs": [
        {
          "name": "stdout",
          "output_type": "stream",
          "text": [
            "\n",
            " ---------------  Training samples  ------------------ \n",
            "\n",
            "with_mask samples:  2400\n",
            "without_mask samples:  2400\n",
            "\n",
            " ---------------  Validation samples  --------------------\n",
            "\n",
            "with_mask samples:  594\n",
            "without_mask samples:  594\n"
          ]
        }
      ],
      "source": [
        "# print number of samples in training and validation set\n",
        "print(\"\\n ---------------  Training samples  ------------------ \\n\")\n",
        "print(\"with_mask samples: \", len(os.listdir(os.path.join(path, 'train/with_mask'))))\n",
        "print(\"without_mask samples: \", len(os.listdir(os.path.join(path, 'train/without_mask'))))\n",
        "\n",
        "print(\"\\n ---------------  Validation samples  --------------------\\n\")\n",
        "print(\"with_mask samples: \", len(os.listdir(os.path.join(path, 'val/with_mask'))))\n",
        "print(\"without_mask samples: \", len(os.listdir(os.path.join(path, 'val/without_mask'))))"
      ]
    },
    {
      "cell_type": "code",
      "execution_count": null,
      "id": "b166c198",
      "metadata": {
        "execution": {
          "iopub.execute_input": "2023-04-12T18:43:00.810197Z",
          "iopub.status.busy": "2023-04-12T18:43:00.809903Z",
          "iopub.status.idle": "2023-04-12T18:43:01.028188Z",
          "shell.execute_reply": "2023-04-12T18:43:01.027161Z"
        },
        "papermill": {
          "duration": 0.237282,
          "end_time": "2023-04-12T18:43:01.030456",
          "exception": false,
          "start_time": "2023-04-12T18:43:00.793174",
          "status": "completed"
        },
        "tags": [],
        "id": "b166c198",
        "outputId": "dd59048f-f3a5-4e00-d2e9-d45779711512"
      },
      "outputs": [
        {
          "name": "stdout",
          "output_type": "stream",
          "text": [
            "Found 4800 images belonging to 2 classes.\n",
            "Found 1188 images belonging to 2 classes.\n"
          ]
        }
      ],
      "source": [
        "# to generate more images I will use Image Data Generator\n",
        "datagen = ImageDataGenerator(rescale = 1.0/255, horizontal_flip = True, \n",
        "                            rotation_range = 20, \n",
        "                            width_shift_range =  0.2,\n",
        "                            height_shift_range = 0.2)\n",
        "\n",
        "train_batch_size = 32\n",
        "train_dir = 'temp/train/'\n",
        "\n",
        "# create train generator\n",
        "train_gen = datagen.flow_from_directory(train_dir,\n",
        "                                       target_size = (224, 224),\n",
        "                                       batch_size = train_batch_size,\n",
        "                                       class_mode = 'categorical')\n",
        "\n",
        "val_batch_size = 32\n",
        "val_dir = 'temp/val/'\n",
        "\n",
        "# create val generator\n",
        "val_gen = datagen.flow_from_directory(val_dir,\n",
        "                                     target_size = (224, 224),\n",
        "                                     batch_size = val_batch_size,\n",
        "                                     class_mode = 'categorical')"
      ]
    },
    {
      "cell_type": "code",
      "execution_count": null,
      "id": "982e155a",
      "metadata": {
        "execution": {
          "iopub.execute_input": "2023-04-12T18:43:01.064087Z",
          "iopub.status.busy": "2023-04-12T18:43:01.063750Z",
          "iopub.status.idle": "2023-04-12T18:43:01.069914Z",
          "shell.execute_reply": "2023-04-12T18:43:01.068962Z"
        },
        "papermill": {
          "duration": 0.025594,
          "end_time": "2023-04-12T18:43:01.072114",
          "exception": false,
          "start_time": "2023-04-12T18:43:01.046520",
          "status": "completed"
        },
        "tags": [],
        "id": "982e155a",
        "outputId": "94939820-523b-4c12-f79a-c55a3163d10b"
      },
      "outputs": [
        {
          "name": "stdout",
          "output_type": "stream",
          "text": [
            "{'with_mask': 0, 'without_mask': 1}\n"
          ]
        }
      ],
      "source": [
        "# print label encoding\n",
        "print(train_gen.class_indices)\n"
      ]
    },
    {
      "cell_type": "code",
      "execution_count": null,
      "id": "811d77bf",
      "metadata": {
        "execution": {
          "iopub.execute_input": "2023-04-12T18:43:01.104868Z",
          "iopub.status.busy": "2023-04-12T18:43:01.104577Z",
          "iopub.status.idle": "2023-04-12T18:43:01.119954Z",
          "shell.execute_reply": "2023-04-12T18:43:01.119026Z"
        },
        "papermill": {
          "duration": 0.034577,
          "end_time": "2023-04-12T18:43:01.121969",
          "exception": false,
          "start_time": "2023-04-12T18:43:01.087392",
          "status": "completed"
        },
        "tags": [],
        "id": "811d77bf",
        "outputId": "16ed0c2d-5b0c-4f26-978f-e7374fb96bbf"
      },
      "outputs": [
        {
          "name": "stdout",
          "output_type": "stream",
          "text": [
            "train_num_samples:  4800\n",
            "val_num_samples:  1188\n"
          ]
        }
      ],
      "source": [
        "# get number of samples in training set and val set\n",
        "train_num_samples = 0\n",
        "\n",
        "for _, _, filenames in os.walk('temp/train/'):\n",
        "    train_num_samples += len(filenames)\n",
        "    \n",
        "val_num_samples = 0\n",
        "\n",
        "for _, _, filenames in os.walk('temp/val/'):\n",
        "    val_num_samples += len(filenames)\n",
        "    \n",
        "print(\"train_num_samples: \",train_num_samples)\n",
        "print(\"val_num_samples: \",val_num_samples)"
      ]
    },
    {
      "cell_type": "markdown",
      "id": "fe364e76",
      "metadata": {
        "papermill": {
          "duration": 0.015793,
          "end_time": "2023-04-12T18:43:01.153829",
          "exception": false,
          "start_time": "2023-04-12T18:43:01.138036",
          "status": "completed"
        },
        "tags": [],
        "id": "fe364e76"
      },
      "source": [
        "## Visualize images generated by the Image Generator"
      ]
    },
    {
      "cell_type": "code",
      "execution_count": null,
      "id": "c8cd4e32",
      "metadata": {
        "execution": {
          "iopub.execute_input": "2023-04-12T18:43:01.187240Z",
          "iopub.status.busy": "2023-04-12T18:43:01.186235Z",
          "iopub.status.idle": "2023-04-12T18:43:01.546537Z",
          "shell.execute_reply": "2023-04-12T18:43:01.545428Z"
        },
        "papermill": {
          "duration": 0.380142,
          "end_time": "2023-04-12T18:43:01.549414",
          "exception": false,
          "start_time": "2023-04-12T18:43:01.169272",
          "status": "completed"
        },
        "tags": [],
        "id": "c8cd4e32"
      },
      "outputs": [],
      "source": [
        "x, y = train_gen.next()"
      ]
    },
    {
      "cell_type": "code",
      "execution_count": null,
      "id": "b328e740",
      "metadata": {
        "execution": {
          "iopub.execute_input": "2023-04-12T18:43:01.617352Z",
          "iopub.status.busy": "2023-04-12T18:43:01.616373Z",
          "iopub.status.idle": "2023-04-12T18:43:01.628952Z",
          "shell.execute_reply": "2023-04-12T18:43:01.627987Z"
        },
        "papermill": {
          "duration": 0.032984,
          "end_time": "2023-04-12T18:43:01.631090",
          "exception": false,
          "start_time": "2023-04-12T18:43:01.598106",
          "status": "completed"
        },
        "tags": [],
        "id": "b328e740"
      },
      "outputs": [],
      "source": [
        "def identity_block(X, f, filters, stage, block):\n",
        "    \"\"\"\n",
        "    Implementation of the identity block\n",
        "    \n",
        "    Arguments:\n",
        "    X -- input tensor of shape (m, n_H_prev, n_W_prev, n_C_prev)\n",
        "    f -- integer, specifying the shape of the middle CONV's window for the main path\n",
        "    filters -- python list of integers, defining the number of filters in the CONV layers of main path\n",
        "    stage -- integer, used to name the layers, depending on their position in the network\n",
        "    block -- string/character, used to name the layers, depending on their position in the network\n",
        "    \n",
        "    Returns:\n",
        "    X -- output of the identity block, tensor of shape (n_H, n_W, n_C)\n",
        "    \"\"\"\n",
        "    \n",
        "    # defining name basis\n",
        "    conv_name_base = 'res' + str(stage) + block + '_branch'\n",
        "    bn_name_base = 'bn' + str(stage) + block + '_branch'\n",
        "    \n",
        "    # Retrieve filters\n",
        "    F1, F2, F3 = filters\n",
        "    \n",
        "    # Save the input value\n",
        "    X_shortcut = X\n",
        "    \n",
        "    # First component of main path\n",
        "    X = Conv2D(filters = F1, kernel_size = (1,1), strides = (1,1), padding = 'valid', \n",
        "               name = conv_name_base + '2a', kernel_initializer = glorot_uniform(seed=0))(X)\n",
        "    X = BatchNormalization(axis=3, name = bn_name_base + '2a')(X)\n",
        "    X = Activation('relu')(X)\n",
        "    \n",
        "    # Second component of main path\n",
        "    X = Conv2D(filters = F2, kernel_size = (f,f), strides = (1,1), padding='same',\n",
        "              name = conv_name_base + '2b', kernel_initializer = glorot_uniform(seed=0))(X)\n",
        "    X = BatchNormalization(axis=3, name = bn_name_base + '2b')(X)\n",
        "    X = Activation('relu')(X)\n",
        "    \n",
        "    # Third component of main path\n",
        "    X = Conv2D(filters = F3, kernel_size = (1,1), strides = (1,1), padding='valid',\n",
        "              name = conv_name_base + '2c', kernel_initializer = glorot_uniform(seed=0))(X)\n",
        "    X = BatchNormalization(axis=3, name = bn_name_base + '2c')(X)\n",
        "    X = Add()([X, X_shortcut])\n",
        "    X = Activation('relu')(X)\n",
        "    \n",
        "    return X"
      ]
    },
    {
      "cell_type": "code",
      "execution_count": null,
      "id": "6faea746",
      "metadata": {
        "execution": {
          "iopub.execute_input": "2023-04-12T18:43:01.696137Z",
          "iopub.status.busy": "2023-04-12T18:43:01.695816Z",
          "iopub.status.idle": "2023-04-12T18:43:01.706614Z",
          "shell.execute_reply": "2023-04-12T18:43:01.705497Z"
        },
        "papermill": {
          "duration": 0.030571,
          "end_time": "2023-04-12T18:43:01.709113",
          "exception": false,
          "start_time": "2023-04-12T18:43:01.678542",
          "status": "completed"
        },
        "tags": [],
        "id": "6faea746"
      },
      "outputs": [],
      "source": [
        "def convolution_block(X, f, filters, stage, block, s=2):\n",
        "    \"\"\"\n",
        "    Implementation of the convolution block\n",
        "    \n",
        "    Arguments:\n",
        "    X -- input tensor of shape (m, n_H_prev, n_W_prev, n_C_prev)\n",
        "    f -- integer, specifying the shape of the middle Conv's window for the main path\n",
        "    stage -- integer, used to name the layers, depending on their position in the network\n",
        "    block -- string/character , used to name the layers, depending on their position in the network\n",
        "    s -- integer, specifying the stride to be used\n",
        "    \"\"\"\n",
        "    \n",
        "    # defining the name basis\n",
        "    conv_name_base = 'res' + str(stage) + block + '_branch'\n",
        "    bn_name_base = 'bn' + str(stage) + block + '_branch'\n",
        "    \n",
        "    # Retrieve filters\n",
        "    F1, F2, F3 = filters\n",
        "    \n",
        "    # Save the input\n",
        "    X_shortcut = X\n",
        "    \n",
        "    # First component of main path\n",
        "    X = Conv2D(filters = F1, kernel_size = (1,1), strides = (s,s), padding='valid',\n",
        "              name = conv_name_base + '2a', kernel_initializer = glorot_uniform(seed=0))(X)\n",
        "    X = BatchNormalization(axis=3, name=bn_name_base + '2a')(X)\n",
        "    X = Activation('relu')(X)\n",
        "    \n",
        "    # Second component of main path\n",
        "    X = Conv2D(filters = F2, kernel_size = (f,f), strides = (1,1), padding='same',\n",
        "              name=conv_name_base + '2b', kernel_initializer = glorot_uniform(seed=0))(X)\n",
        "    X = BatchNormalization(axis=3, name=bn_name_base + '2b')(X)\n",
        "    X = Activation('relu')(X)\n",
        "    \n",
        "    # Third component of main path\n",
        "    X = Conv2D(filters = F3, kernel_size = (1,1), strides = (1,1), padding='valid',\n",
        "              name = conv_name_base + '2c', kernel_initializer = glorot_uniform(seed=0))(X)\n",
        "    X = BatchNormalization(axis=3, name=bn_name_base+'2c')(X)\n",
        "    \n",
        "    # Shortcut path\n",
        "    X_shortcut = Conv2D(filters = F3, kernel_size = (1,1), strides = (s,s), padding='valid',\n",
        "                      name=conv_name_base+'1', kernel_initializer = glorot_uniform(seed=0))(X_shortcut)\n",
        "    X_shortcut = BatchNormalization(axis=3, name=bn_name_base+'1')(X_shortcut)\n",
        "    \n",
        "    # Final step, Add shortcut value to main path and pass it through a Relu activation\n",
        "    X = Add()([X, X_shortcut])\n",
        "    X = Activation('relu')(X)\n",
        "    \n",
        "    return X"
      ]
    },
    {
      "cell_type": "code",
      "execution_count": null,
      "id": "44ff35d7",
      "metadata": {
        "execution": {
          "iopub.execute_input": "2023-04-12T18:43:01.772831Z",
          "iopub.status.busy": "2023-04-12T18:43:01.772234Z",
          "iopub.status.idle": "2023-04-12T18:43:01.789612Z",
          "shell.execute_reply": "2023-04-12T18:43:01.788447Z"
        },
        "papermill": {
          "duration": 0.036769,
          "end_time": "2023-04-12T18:43:01.791858",
          "exception": false,
          "start_time": "2023-04-12T18:43:01.755089",
          "status": "completed"
        },
        "tags": [],
        "id": "44ff35d7"
      },
      "outputs": [],
      "source": [
        "def ResNet50(input_shape=(64, 64, 3), classes=2):\n",
        "    \n",
        "    # define the input as a tensor with shape input_shape\n",
        "    X_input = Input(shape=input_shape)\n",
        "    \n",
        "    # Stage 1\n",
        "    X = Conv2D(filters = 64, kernel_size = (3,3), strides = (1,1), padding='valid',\n",
        "              name='conv1', kernel_initializer = glorot_uniform(seed=0))(X_input)\n",
        "    X = BatchNormalization(axis=3, name='bn_conv1')(X)\n",
        "    X = Activation('relu')(X)\n",
        "    X = MaxPooling2D(pool_size=(3,3), strides=(2,2))(X)\n",
        "    \n",
        "    # Stage 2\n",
        "    X = convolution_block(X, f=3, filters=[64,64,256], stage=2, block='a', s=2)\n",
        "    X = identity_block(X, f=3, filters=[64,64,256], stage=2, block='b')\n",
        "    X = identity_block(X, f=3, filters=[64,64,256], stage=2, block='c')\n",
        "    \n",
        "    # Stage 3\n",
        "    X = convolution_block(X, f=3, filters=[128,128,512], stage=3, block='a', s=2)\n",
        "    X = identity_block(X, f=3, filters=[128,128,512],stage=3, block='b')\n",
        "    X = identity_block(X, f=3, filters=[128,128,512], stage=3, block='c')\n",
        "    X = identity_block(X, f=3, filters=[128,128,512], stage=3, block='d')\n",
        "    \n",
        "    # Stage 4\n",
        "    X = convolution_block(X, f=3, filters=[256,256,1024], stage=4, block='a', s=2)\n",
        "    X = identity_block(X, f=3, filters=[256,256,1024], stage=4, block='b')\n",
        "    X = identity_block(X, f=3, filters=[256,256,1024], stage=4, block='c')\n",
        "    X = identity_block(X, f=3, filters=[256,256,1024], stage=4, block='d')\n",
        "    X = identity_block(X, f=3, filters=[256,256,1024], stage=4, block='e')\n",
        "    X = identity_block(X, f=3, filters=[256,256,1024], stage=4, block='f')\n",
        "    \n",
        "    # Stage 5\n",
        "    X = convolution_block(X, f=3, filters=[512,512,2048], stage=5, block='a', s=2)\n",
        "    X = identity_block(X, f=3, filters=[512,512,2048], stage=5, block='b')\n",
        "    X = identity_block(X, f=3, filters=[512,512,2048], stage=5, block='c')\n",
        "    \n",
        "    # AVGPool\n",
        "    X = AveragePooling2D(pool_size=(2,2), padding='same')(X)\n",
        "    \n",
        "    # output layer\n",
        "    X = Flatten()(X)\n",
        "    X = Dense(units=classes, activation='softmax', name='fc' + str(classes), kernel_initializer=glorot_uniform(seed=0))(X)\n",
        "    \n",
        "    # create model\n",
        "    model = keras.Model(inputs = X_input, outputs=X, name='ResNet50')\n",
        "    \n",
        "    return model"
      ]
    },
    {
      "cell_type": "code",
      "execution_count": null,
      "id": "21f0465b",
      "metadata": {
        "execution": {
          "iopub.execute_input": "2023-04-12T18:43:01.825497Z",
          "iopub.status.busy": "2023-04-12T18:43:01.824654Z",
          "iopub.status.idle": "2023-04-12T18:43:07.280980Z",
          "shell.execute_reply": "2023-04-12T18:43:07.280093Z"
        },
        "papermill": {
          "duration": 5.769409,
          "end_time": "2023-04-12T18:43:07.577048",
          "exception": false,
          "start_time": "2023-04-12T18:43:01.807639",
          "status": "completed"
        },
        "tags": [],
        "id": "21f0465b",
        "outputId": "31db52f6-e70c-4a66-9526-96e31ae3d869"
      },
      "outputs": [
        {
          "name": "stdout",
          "output_type": "stream",
          "text": [
            "Model: \"ResNet50\"\n",
            "__________________________________________________________________________________________________\n",
            " Layer (type)                   Output Shape         Param #     Connected to                     \n",
            "==================================================================================================\n",
            " input_1 (InputLayer)           [(None, 224, 224, 3  0           []                               \n",
            "                                )]                                                                \n",
            "                                                                                                  \n",
            " conv1 (Conv2D)                 (None, 222, 222, 64  1792        ['input_1[0][0]']                \n",
            "                                )                                                                 \n",
            "                                                                                                  \n",
            " bn_conv1 (BatchNormalization)  (None, 222, 222, 64  256         ['conv1[0][0]']                  \n",
            "                                )                                                                 \n",
            "                                                                                                  \n",
            " activation (Activation)        (None, 222, 222, 64  0           ['bn_conv1[0][0]']               \n",
            "                                )                                                                 \n",
            "                                                                                                  \n",
            " max_pooling2d (MaxPooling2D)   (None, 110, 110, 64  0           ['activation[0][0]']             \n",
            "                                )                                                                 \n",
            "                                                                                                  \n",
            " res2a_branch2a (Conv2D)        (None, 55, 55, 64)   4160        ['max_pooling2d[0][0]']          \n",
            "                                                                                                  \n",
            " bn2a_branch2a (BatchNormalizat  (None, 55, 55, 64)  256         ['res2a_branch2a[0][0]']         \n",
            " ion)                                                                                             \n",
            "                                                                                                  \n",
            " activation_1 (Activation)      (None, 55, 55, 64)   0           ['bn2a_branch2a[0][0]']          \n",
            "                                                                                                  \n",
            " res2a_branch2b (Conv2D)        (None, 55, 55, 64)   36928       ['activation_1[0][0]']           \n",
            "                                                                                                  \n",
            " bn2a_branch2b (BatchNormalizat  (None, 55, 55, 64)  256         ['res2a_branch2b[0][0]']         \n",
            " ion)                                                                                             \n",
            "                                                                                                  \n",
            " activation_2 (Activation)      (None, 55, 55, 64)   0           ['bn2a_branch2b[0][0]']          \n",
            "                                                                                                  \n",
            " res2a_branch2c (Conv2D)        (None, 55, 55, 256)  16640       ['activation_2[0][0]']           \n",
            "                                                                                                  \n",
            " res2a_branch1 (Conv2D)         (None, 55, 55, 256)  16640       ['max_pooling2d[0][0]']          \n",
            "                                                                                                  \n",
            " bn2a_branch2c (BatchNormalizat  (None, 55, 55, 256)  1024       ['res2a_branch2c[0][0]']         \n",
            " ion)                                                                                             \n",
            "                                                                                                  \n",
            " bn2a_branch1 (BatchNormalizati  (None, 55, 55, 256)  1024       ['res2a_branch1[0][0]']          \n",
            " on)                                                                                              \n",
            "                                                                                                  \n",
            " add (Add)                      (None, 55, 55, 256)  0           ['bn2a_branch2c[0][0]',          \n",
            "                                                                  'bn2a_branch1[0][0]']           \n",
            "                                                                                                  \n",
            " activation_3 (Activation)      (None, 55, 55, 256)  0           ['add[0][0]']                    \n",
            "                                                                                                  \n",
            " res2b_branch2a (Conv2D)        (None, 55, 55, 64)   16448       ['activation_3[0][0]']           \n",
            "                                                                                                  \n",
            " bn2b_branch2a (BatchNormalizat  (None, 55, 55, 64)  256         ['res2b_branch2a[0][0]']         \n",
            " ion)                                                                                             \n",
            "                                                                                                  \n",
            " activation_4 (Activation)      (None, 55, 55, 64)   0           ['bn2b_branch2a[0][0]']          \n",
            "                                                                                                  \n",
            " res2b_branch2b (Conv2D)        (None, 55, 55, 64)   36928       ['activation_4[0][0]']           \n",
            "                                                                                                  \n",
            " bn2b_branch2b (BatchNormalizat  (None, 55, 55, 64)  256         ['res2b_branch2b[0][0]']         \n",
            " ion)                                                                                             \n",
            "                                                                                                  \n",
            " activation_5 (Activation)      (None, 55, 55, 64)   0           ['bn2b_branch2b[0][0]']          \n",
            "                                                                                                  \n",
            " res2b_branch2c (Conv2D)        (None, 55, 55, 256)  16640       ['activation_5[0][0]']           \n",
            "                                                                                                  \n",
            " bn2b_branch2c (BatchNormalizat  (None, 55, 55, 256)  1024       ['res2b_branch2c[0][0]']         \n",
            " ion)                                                                                             \n",
            "                                                                                                  \n",
            " add_1 (Add)                    (None, 55, 55, 256)  0           ['bn2b_branch2c[0][0]',          \n",
            "                                                                  'activation_3[0][0]']           \n",
            "                                                                                                  \n",
            " activation_6 (Activation)      (None, 55, 55, 256)  0           ['add_1[0][0]']                  \n",
            "                                                                                                  \n",
            " res2c_branch2a (Conv2D)        (None, 55, 55, 64)   16448       ['activation_6[0][0]']           \n",
            "                                                                                                  \n",
            " bn2c_branch2a (BatchNormalizat  (None, 55, 55, 64)  256         ['res2c_branch2a[0][0]']         \n",
            " ion)                                                                                             \n",
            "                                                                                                  \n",
            " activation_7 (Activation)      (None, 55, 55, 64)   0           ['bn2c_branch2a[0][0]']          \n",
            "                                                                                                  \n",
            " res2c_branch2b (Conv2D)        (None, 55, 55, 64)   36928       ['activation_7[0][0]']           \n",
            "                                                                                                  \n",
            " bn2c_branch2b (BatchNormalizat  (None, 55, 55, 64)  256         ['res2c_branch2b[0][0]']         \n",
            " ion)                                                                                             \n",
            "                                                                                                  \n",
            " activation_8 (Activation)      (None, 55, 55, 64)   0           ['bn2c_branch2b[0][0]']          \n",
            "                                                                                                  \n",
            " res2c_branch2c (Conv2D)        (None, 55, 55, 256)  16640       ['activation_8[0][0]']           \n",
            "                                                                                                  \n",
            " bn2c_branch2c (BatchNormalizat  (None, 55, 55, 256)  1024       ['res2c_branch2c[0][0]']         \n",
            " ion)                                                                                             \n",
            "                                                                                                  \n",
            " add_2 (Add)                    (None, 55, 55, 256)  0           ['bn2c_branch2c[0][0]',          \n",
            "                                                                  'activation_6[0][0]']           \n",
            "                                                                                                  \n",
            " activation_9 (Activation)      (None, 55, 55, 256)  0           ['add_2[0][0]']                  \n",
            "                                                                                                  \n",
            " res3a_branch2a (Conv2D)        (None, 28, 28, 128)  32896       ['activation_9[0][0]']           \n",
            "                                                                                                  \n",
            " bn3a_branch2a (BatchNormalizat  (None, 28, 28, 128)  512        ['res3a_branch2a[0][0]']         \n",
            " ion)                                                                                             \n",
            "                                                                                                  \n",
            " activation_10 (Activation)     (None, 28, 28, 128)  0           ['bn3a_branch2a[0][0]']          \n",
            "                                                                                                  \n",
            " res3a_branch2b (Conv2D)        (None, 28, 28, 128)  147584      ['activation_10[0][0]']          \n",
            "                                                                                                  \n",
            " bn3a_branch2b (BatchNormalizat  (None, 28, 28, 128)  512        ['res3a_branch2b[0][0]']         \n",
            " ion)                                                                                             \n",
            "                                                                                                  \n",
            " activation_11 (Activation)     (None, 28, 28, 128)  0           ['bn3a_branch2b[0][0]']          \n",
            "                                                                                                  \n",
            " res3a_branch2c (Conv2D)        (None, 28, 28, 512)  66048       ['activation_11[0][0]']          \n",
            "                                                                                                  \n",
            " res3a_branch1 (Conv2D)         (None, 28, 28, 512)  131584      ['activation_9[0][0]']           \n",
            "                                                                                                  \n",
            " bn3a_branch2c (BatchNormalizat  (None, 28, 28, 512)  2048       ['res3a_branch2c[0][0]']         \n",
            " ion)                                                                                             \n",
            "                                                                                                  \n",
            " bn3a_branch1 (BatchNormalizati  (None, 28, 28, 512)  2048       ['res3a_branch1[0][0]']          \n",
            " on)                                                                                              \n",
            "                                                                                                  \n",
            " add_3 (Add)                    (None, 28, 28, 512)  0           ['bn3a_branch2c[0][0]',          \n",
            "                                                                  'bn3a_branch1[0][0]']           \n",
            "                                                                                                  \n",
            " activation_12 (Activation)     (None, 28, 28, 512)  0           ['add_3[0][0]']                  \n",
            "                                                                                                  \n",
            " res3b_branch2a (Conv2D)        (None, 28, 28, 128)  65664       ['activation_12[0][0]']          \n",
            "                                                                                                  \n",
            " bn3b_branch2a (BatchNormalizat  (None, 28, 28, 128)  512        ['res3b_branch2a[0][0]']         \n",
            " ion)                                                                                             \n",
            "                                                                                                  \n",
            " activation_13 (Activation)     (None, 28, 28, 128)  0           ['bn3b_branch2a[0][0]']          \n",
            "                                                                                                  \n",
            " res3b_branch2b (Conv2D)        (None, 28, 28, 128)  147584      ['activation_13[0][0]']          \n",
            "                                                                                                  \n",
            " bn3b_branch2b (BatchNormalizat  (None, 28, 28, 128)  512        ['res3b_branch2b[0][0]']         \n",
            " ion)                                                                                             \n",
            "                                                                                                  \n",
            " activation_14 (Activation)     (None, 28, 28, 128)  0           ['bn3b_branch2b[0][0]']          \n",
            "                                                                                                  \n",
            " res3b_branch2c (Conv2D)        (None, 28, 28, 512)  66048       ['activation_14[0][0]']          \n",
            "                                                                                                  \n",
            " bn3b_branch2c (BatchNormalizat  (None, 28, 28, 512)  2048       ['res3b_branch2c[0][0]']         \n",
            " ion)                                                                                             \n",
            "                                                                                                  \n",
            " add_4 (Add)                    (None, 28, 28, 512)  0           ['bn3b_branch2c[0][0]',          \n",
            "                                                                  'activation_12[0][0]']          \n",
            "                                                                                                  \n",
            " activation_15 (Activation)     (None, 28, 28, 512)  0           ['add_4[0][0]']                  \n",
            "                                                                                                  \n",
            " res3c_branch2a (Conv2D)        (None, 28, 28, 128)  65664       ['activation_15[0][0]']          \n",
            "                                                                                                  \n",
            " bn3c_branch2a (BatchNormalizat  (None, 28, 28, 128)  512        ['res3c_branch2a[0][0]']         \n",
            " ion)                                                                                             \n",
            "                                                                                                  \n",
            " activation_16 (Activation)     (None, 28, 28, 128)  0           ['bn3c_branch2a[0][0]']          \n",
            "                                                                                                  \n",
            " res3c_branch2b (Conv2D)        (None, 28, 28, 128)  147584      ['activation_16[0][0]']          \n",
            "                                                                                                  \n",
            " bn3c_branch2b (BatchNormalizat  (None, 28, 28, 128)  512        ['res3c_branch2b[0][0]']         \n",
            " ion)                                                                                             \n",
            "                                                                                                  \n",
            " activation_17 (Activation)     (None, 28, 28, 128)  0           ['bn3c_branch2b[0][0]']          \n",
            "                                                                                                  \n",
            " res3c_branch2c (Conv2D)        (None, 28, 28, 512)  66048       ['activation_17[0][0]']          \n",
            "                                                                                                  \n",
            " bn3c_branch2c (BatchNormalizat  (None, 28, 28, 512)  2048       ['res3c_branch2c[0][0]']         \n",
            " ion)                                                                                             \n",
            "                                                                                                  \n",
            " add_5 (Add)                    (None, 28, 28, 512)  0           ['bn3c_branch2c[0][0]',          \n",
            "                                                                  'activation_15[0][0]']          \n",
            "                                                                                                  \n",
            " activation_18 (Activation)     (None, 28, 28, 512)  0           ['add_5[0][0]']                  \n",
            "                                                                                                  \n",
            " res3d_branch2a (Conv2D)        (None, 28, 28, 128)  65664       ['activation_18[0][0]']          \n",
            "                                                                                                  \n",
            " bn3d_branch2a (BatchNormalizat  (None, 28, 28, 128)  512        ['res3d_branch2a[0][0]']         \n",
            " ion)                                                                                             \n",
            "                                                                                                  \n",
            " activation_19 (Activation)     (None, 28, 28, 128)  0           ['bn3d_branch2a[0][0]']          \n",
            "                                                                                                  \n",
            " res3d_branch2b (Conv2D)        (None, 28, 28, 128)  147584      ['activation_19[0][0]']          \n",
            "                                                                                                  \n",
            " bn3d_branch2b (BatchNormalizat  (None, 28, 28, 128)  512        ['res3d_branch2b[0][0]']         \n",
            " ion)                                                                                             \n",
            "                                                                                                  \n",
            " activation_20 (Activation)     (None, 28, 28, 128)  0           ['bn3d_branch2b[0][0]']          \n",
            "                                                                                                  \n",
            " res3d_branch2c (Conv2D)        (None, 28, 28, 512)  66048       ['activation_20[0][0]']          \n",
            "                                                                                                  \n",
            " bn3d_branch2c (BatchNormalizat  (None, 28, 28, 512)  2048       ['res3d_branch2c[0][0]']         \n",
            " ion)                                                                                             \n",
            "                                                                                                  \n",
            " add_6 (Add)                    (None, 28, 28, 512)  0           ['bn3d_branch2c[0][0]',          \n",
            "                                                                  'activation_18[0][0]']          \n",
            "                                                                                                  \n",
            " activation_21 (Activation)     (None, 28, 28, 512)  0           ['add_6[0][0]']                  \n",
            "                                                                                                  \n",
            " res4a_branch2a (Conv2D)        (None, 14, 14, 256)  131328      ['activation_21[0][0]']          \n",
            "                                                                                                  \n",
            " bn4a_branch2a (BatchNormalizat  (None, 14, 14, 256)  1024       ['res4a_branch2a[0][0]']         \n",
            " ion)                                                                                             \n",
            "                                                                                                  \n",
            " activation_22 (Activation)     (None, 14, 14, 256)  0           ['bn4a_branch2a[0][0]']          \n",
            "                                                                                                  \n",
            " res4a_branch2b (Conv2D)        (None, 14, 14, 256)  590080      ['activation_22[0][0]']          \n",
            "                                                                                                  \n",
            " bn4a_branch2b (BatchNormalizat  (None, 14, 14, 256)  1024       ['res4a_branch2b[0][0]']         \n",
            " ion)                                                                                             \n",
            "                                                                                                  \n",
            " activation_23 (Activation)     (None, 14, 14, 256)  0           ['bn4a_branch2b[0][0]']          \n",
            "                                                                                                  \n",
            " res4a_branch2c (Conv2D)        (None, 14, 14, 1024  263168      ['activation_23[0][0]']          \n",
            "                                )                                                                 \n",
            "                                                                                                  \n",
            " res4a_branch1 (Conv2D)         (None, 14, 14, 1024  525312      ['activation_21[0][0]']          \n",
            "                                )                                                                 \n",
            "                                                                                                  \n",
            " bn4a_branch2c (BatchNormalizat  (None, 14, 14, 1024  4096       ['res4a_branch2c[0][0]']         \n",
            " ion)                           )                                                                 \n",
            "                                                                                                  \n",
            " bn4a_branch1 (BatchNormalizati  (None, 14, 14, 1024  4096       ['res4a_branch1[0][0]']          \n",
            " on)                            )                                                                 \n",
            "                                                                                                  \n",
            " add_7 (Add)                    (None, 14, 14, 1024  0           ['bn4a_branch2c[0][0]',          \n",
            "                                )                                 'bn4a_branch1[0][0]']           \n",
            "                                                                                                  \n",
            " activation_24 (Activation)     (None, 14, 14, 1024  0           ['add_7[0][0]']                  \n",
            "                                )                                                                 \n",
            "                                                                                                  \n",
            " res4b_branch2a (Conv2D)        (None, 14, 14, 256)  262400      ['activation_24[0][0]']          \n",
            "                                                                                                  \n",
            " bn4b_branch2a (BatchNormalizat  (None, 14, 14, 256)  1024       ['res4b_branch2a[0][0]']         \n",
            " ion)                                                                                             \n",
            "                                                                                                  \n",
            " activation_25 (Activation)     (None, 14, 14, 256)  0           ['bn4b_branch2a[0][0]']          \n",
            "                                                                                                  \n",
            " res4b_branch2b (Conv2D)        (None, 14, 14, 256)  590080      ['activation_25[0][0]']          \n",
            "                                                                                                  \n",
            " bn4b_branch2b (BatchNormalizat  (None, 14, 14, 256)  1024       ['res4b_branch2b[0][0]']         \n",
            " ion)                                                                                             \n",
            "                                                                                                  \n",
            " activation_26 (Activation)     (None, 14, 14, 256)  0           ['bn4b_branch2b[0][0]']          \n",
            "                                                                                                  \n",
            " res4b_branch2c (Conv2D)        (None, 14, 14, 1024  263168      ['activation_26[0][0]']          \n",
            "                                )                                                                 \n",
            "                                                                                                  \n",
            " bn4b_branch2c (BatchNormalizat  (None, 14, 14, 1024  4096       ['res4b_branch2c[0][0]']         \n",
            " ion)                           )                                                                 \n",
            "                                                                                                  \n",
            " add_8 (Add)                    (None, 14, 14, 1024  0           ['bn4b_branch2c[0][0]',          \n",
            "                                )                                 'activation_24[0][0]']          \n",
            "                                                                                                  \n",
            " activation_27 (Activation)     (None, 14, 14, 1024  0           ['add_8[0][0]']                  \n",
            "                                )                                                                 \n",
            "                                                                                                  \n",
            " res4c_branch2a (Conv2D)        (None, 14, 14, 256)  262400      ['activation_27[0][0]']          \n",
            "                                                                                                  \n",
            " bn4c_branch2a (BatchNormalizat  (None, 14, 14, 256)  1024       ['res4c_branch2a[0][0]']         \n",
            " ion)                                                                                             \n",
            "                                                                                                  \n",
            " activation_28 (Activation)     (None, 14, 14, 256)  0           ['bn4c_branch2a[0][0]']          \n",
            "                                                                                                  \n",
            " res4c_branch2b (Conv2D)        (None, 14, 14, 256)  590080      ['activation_28[0][0]']          \n",
            "                                                                                                  \n",
            " bn4c_branch2b (BatchNormalizat  (None, 14, 14, 256)  1024       ['res4c_branch2b[0][0]']         \n",
            " ion)                                                                                             \n",
            "                                                                                                  \n",
            " activation_29 (Activation)     (None, 14, 14, 256)  0           ['bn4c_branch2b[0][0]']          \n",
            "                                                                                                  \n",
            " res4c_branch2c (Conv2D)        (None, 14, 14, 1024  263168      ['activation_29[0][0]']          \n",
            "                                )                                                                 \n",
            "                                                                                                  \n",
            " bn4c_branch2c (BatchNormalizat  (None, 14, 14, 1024  4096       ['res4c_branch2c[0][0]']         \n",
            " ion)                           )                                                                 \n",
            "                                                                                                  \n",
            " add_9 (Add)                    (None, 14, 14, 1024  0           ['bn4c_branch2c[0][0]',          \n",
            "                                )                                 'activation_27[0][0]']          \n",
            "                                                                                                  \n",
            " activation_30 (Activation)     (None, 14, 14, 1024  0           ['add_9[0][0]']                  \n",
            "                                )                                                                 \n",
            "                                                                                                  \n",
            " res4d_branch2a (Conv2D)        (None, 14, 14, 256)  262400      ['activation_30[0][0]']          \n",
            "                                                                                                  \n",
            " bn4d_branch2a (BatchNormalizat  (None, 14, 14, 256)  1024       ['res4d_branch2a[0][0]']         \n",
            " ion)                                                                                             \n",
            "                                                                                                  \n",
            " activation_31 (Activation)     (None, 14, 14, 256)  0           ['bn4d_branch2a[0][0]']          \n",
            "                                                                                                  \n",
            " res4d_branch2b (Conv2D)        (None, 14, 14, 256)  590080      ['activation_31[0][0]']          \n",
            "                                                                                                  \n",
            " bn4d_branch2b (BatchNormalizat  (None, 14, 14, 256)  1024       ['res4d_branch2b[0][0]']         \n",
            " ion)                                                                                             \n",
            "                                                                                                  \n",
            " activation_32 (Activation)     (None, 14, 14, 256)  0           ['bn4d_branch2b[0][0]']          \n",
            "                                                                                                  \n",
            " res4d_branch2c (Conv2D)        (None, 14, 14, 1024  263168      ['activation_32[0][0]']          \n",
            "                                )                                                                 \n",
            "                                                                                                  \n",
            " bn4d_branch2c (BatchNormalizat  (None, 14, 14, 1024  4096       ['res4d_branch2c[0][0]']         \n",
            " ion)                           )                                                                 \n",
            "                                                                                                  \n",
            " add_10 (Add)                   (None, 14, 14, 1024  0           ['bn4d_branch2c[0][0]',          \n",
            "                                )                                 'activation_30[0][0]']          \n",
            "                                                                                                  \n",
            " activation_33 (Activation)     (None, 14, 14, 1024  0           ['add_10[0][0]']                 \n",
            "                                )                                                                 \n",
            "                                                                                                  \n",
            " res4e_branch2a (Conv2D)        (None, 14, 14, 256)  262400      ['activation_33[0][0]']          \n",
            "                                                                                                  \n",
            " bn4e_branch2a (BatchNormalizat  (None, 14, 14, 256)  1024       ['res4e_branch2a[0][0]']         \n",
            " ion)                                                                                             \n",
            "                                                                                                  \n",
            " activation_34 (Activation)     (None, 14, 14, 256)  0           ['bn4e_branch2a[0][0]']          \n",
            "                                                                                                  \n",
            " res4e_branch2b (Conv2D)        (None, 14, 14, 256)  590080      ['activation_34[0][0]']          \n",
            "                                                                                                  \n",
            " bn4e_branch2b (BatchNormalizat  (None, 14, 14, 256)  1024       ['res4e_branch2b[0][0]']         \n",
            " ion)                                                                                             \n",
            "                                                                                                  \n",
            " activation_35 (Activation)     (None, 14, 14, 256)  0           ['bn4e_branch2b[0][0]']          \n",
            "                                                                                                  \n",
            " res4e_branch2c (Conv2D)        (None, 14, 14, 1024  263168      ['activation_35[0][0]']          \n",
            "                                )                                                                 \n",
            "                                                                                                  \n",
            " bn4e_branch2c (BatchNormalizat  (None, 14, 14, 1024  4096       ['res4e_branch2c[0][0]']         \n",
            " ion)                           )                                                                 \n",
            "                                                                                                  \n",
            " add_11 (Add)                   (None, 14, 14, 1024  0           ['bn4e_branch2c[0][0]',          \n",
            "                                )                                 'activation_33[0][0]']          \n",
            "                                                                                                  \n",
            " activation_36 (Activation)     (None, 14, 14, 1024  0           ['add_11[0][0]']                 \n",
            "                                )                                                                 \n",
            "                                                                                                  \n",
            " res4f_branch2a (Conv2D)        (None, 14, 14, 256)  262400      ['activation_36[0][0]']          \n",
            "                                                                                                  \n",
            " bn4f_branch2a (BatchNormalizat  (None, 14, 14, 256)  1024       ['res4f_branch2a[0][0]']         \n",
            " ion)                                                                                             \n",
            "                                                                                                  \n",
            " activation_37 (Activation)     (None, 14, 14, 256)  0           ['bn4f_branch2a[0][0]']          \n",
            "                                                                                                  \n",
            " res4f_branch2b (Conv2D)        (None, 14, 14, 256)  590080      ['activation_37[0][0]']          \n",
            "                                                                                                  \n",
            " bn4f_branch2b (BatchNormalizat  (None, 14, 14, 256)  1024       ['res4f_branch2b[0][0]']         \n",
            " ion)                                                                                             \n",
            "                                                                                                  \n",
            " activation_38 (Activation)     (None, 14, 14, 256)  0           ['bn4f_branch2b[0][0]']          \n",
            "                                                                                                  \n",
            " res4f_branch2c (Conv2D)        (None, 14, 14, 1024  263168      ['activation_38[0][0]']          \n",
            "                                )                                                                 \n",
            "                                                                                                  \n",
            " bn4f_branch2c (BatchNormalizat  (None, 14, 14, 1024  4096       ['res4f_branch2c[0][0]']         \n",
            " ion)                           )                                                                 \n",
            "                                                                                                  \n",
            " add_12 (Add)                   (None, 14, 14, 1024  0           ['bn4f_branch2c[0][0]',          \n",
            "                                )                                 'activation_36[0][0]']          \n",
            "                                                                                                  \n",
            " activation_39 (Activation)     (None, 14, 14, 1024  0           ['add_12[0][0]']                 \n",
            "                                )                                                                 \n",
            "                                                                                                  \n",
            " res5a_branch2a (Conv2D)        (None, 7, 7, 512)    524800      ['activation_39[0][0]']          \n",
            "                                                                                                  \n",
            " bn5a_branch2a (BatchNormalizat  (None, 7, 7, 512)   2048        ['res5a_branch2a[0][0]']         \n",
            " ion)                                                                                             \n",
            "                                                                                                  \n",
            " activation_40 (Activation)     (None, 7, 7, 512)    0           ['bn5a_branch2a[0][0]']          \n",
            "                                                                                                  \n",
            " res5a_branch2b (Conv2D)        (None, 7, 7, 512)    2359808     ['activation_40[0][0]']          \n",
            "                                                                                                  \n",
            " bn5a_branch2b (BatchNormalizat  (None, 7, 7, 512)   2048        ['res5a_branch2b[0][0]']         \n",
            " ion)                                                                                             \n",
            "                                                                                                  \n",
            " activation_41 (Activation)     (None, 7, 7, 512)    0           ['bn5a_branch2b[0][0]']          \n",
            "                                                                                                  \n",
            " res5a_branch2c (Conv2D)        (None, 7, 7, 2048)   1050624     ['activation_41[0][0]']          \n",
            "                                                                                                  \n",
            " res5a_branch1 (Conv2D)         (None, 7, 7, 2048)   2099200     ['activation_39[0][0]']          \n",
            "                                                                                                  \n",
            " bn5a_branch2c (BatchNormalizat  (None, 7, 7, 2048)  8192        ['res5a_branch2c[0][0]']         \n",
            " ion)                                                                                             \n",
            "                                                                                                  \n",
            " bn5a_branch1 (BatchNormalizati  (None, 7, 7, 2048)  8192        ['res5a_branch1[0][0]']          \n",
            " on)                                                                                              \n",
            "                                                                                                  \n",
            " add_13 (Add)                   (None, 7, 7, 2048)   0           ['bn5a_branch2c[0][0]',          \n",
            "                                                                  'bn5a_branch1[0][0]']           \n",
            "                                                                                                  \n",
            " activation_42 (Activation)     (None, 7, 7, 2048)   0           ['add_13[0][0]']                 \n",
            "                                                                                                  \n",
            " res5b_branch2a (Conv2D)        (None, 7, 7, 512)    1049088     ['activation_42[0][0]']          \n",
            "                                                                                                  \n",
            " bn5b_branch2a (BatchNormalizat  (None, 7, 7, 512)   2048        ['res5b_branch2a[0][0]']         \n",
            " ion)                                                                                             \n",
            "                                                                                                  \n",
            " activation_43 (Activation)     (None, 7, 7, 512)    0           ['bn5b_branch2a[0][0]']          \n",
            "                                                                                                  \n",
            " res5b_branch2b (Conv2D)        (None, 7, 7, 512)    2359808     ['activation_43[0][0]']          \n",
            "                                                                                                  \n",
            " bn5b_branch2b (BatchNormalizat  (None, 7, 7, 512)   2048        ['res5b_branch2b[0][0]']         \n",
            " ion)                                                                                             \n",
            "                                                                                                  \n",
            " activation_44 (Activation)     (None, 7, 7, 512)    0           ['bn5b_branch2b[0][0]']          \n",
            "                                                                                                  \n",
            " res5b_branch2c (Conv2D)        (None, 7, 7, 2048)   1050624     ['activation_44[0][0]']          \n",
            "                                                                                                  \n",
            " bn5b_branch2c (BatchNormalizat  (None, 7, 7, 2048)  8192        ['res5b_branch2c[0][0]']         \n",
            " ion)                                                                                             \n",
            "                                                                                                  \n",
            " add_14 (Add)                   (None, 7, 7, 2048)   0           ['bn5b_branch2c[0][0]',          \n",
            "                                                                  'activation_42[0][0]']          \n",
            "                                                                                                  \n",
            " activation_45 (Activation)     (None, 7, 7, 2048)   0           ['add_14[0][0]']                 \n",
            "                                                                                                  \n",
            " res5c_branch2a (Conv2D)        (None, 7, 7, 512)    1049088     ['activation_45[0][0]']          \n",
            "                                                                                                  \n",
            " bn5c_branch2a (BatchNormalizat  (None, 7, 7, 512)   2048        ['res5c_branch2a[0][0]']         \n",
            " ion)                                                                                             \n",
            "                                                                                                  \n",
            " activation_46 (Activation)     (None, 7, 7, 512)    0           ['bn5c_branch2a[0][0]']          \n",
            "                                                                                                  \n",
            " res5c_branch2b (Conv2D)        (None, 7, 7, 512)    2359808     ['activation_46[0][0]']          \n",
            "                                                                                                  \n",
            " bn5c_branch2b (BatchNormalizat  (None, 7, 7, 512)   2048        ['res5c_branch2b[0][0]']         \n",
            " ion)                                                                                             \n",
            "                                                                                                  \n",
            " activation_47 (Activation)     (None, 7, 7, 512)    0           ['bn5c_branch2b[0][0]']          \n",
            "                                                                                                  \n",
            " res5c_branch2c (Conv2D)        (None, 7, 7, 2048)   1050624     ['activation_47[0][0]']          \n",
            "                                                                                                  \n",
            " bn5c_branch2c (BatchNormalizat  (None, 7, 7, 2048)  8192        ['res5c_branch2c[0][0]']         \n",
            " ion)                                                                                             \n",
            "                                                                                                  \n",
            " add_15 (Add)                   (None, 7, 7, 2048)   0           ['bn5c_branch2c[0][0]',          \n",
            "                                                                  'activation_45[0][0]']          \n",
            "                                                                                                  \n",
            " activation_48 (Activation)     (None, 7, 7, 2048)   0           ['add_15[0][0]']                 \n",
            "                                                                                                  \n",
            " average_pooling2d (AveragePool  (None, 4, 4, 2048)  0           ['activation_48[0][0]']          \n",
            " ing2D)                                                                                           \n",
            "                                                                                                  \n",
            " flatten (Flatten)              (None, 32768)        0           ['average_pooling2d[0][0]']      \n",
            "                                                                                                  \n",
            " fc2 (Dense)                    (None, 2)            65538       ['flatten[0][0]']                \n",
            "                                                                                                  \n",
            "==================================================================================================\n",
            "Total params: 23,645,570\n",
            "Trainable params: 23,592,450\n",
            "Non-trainable params: 53,120\n",
            "__________________________________________________________________________________________________\n"
          ]
        }
      ],
      "source": [
        "model = ResNet50(input_shape = (224,224,3), classes=2)\n",
        "\n",
        "# print model summary\n",
        "model.summary()"
      ]
    },
    {
      "cell_type": "markdown",
      "id": "9a328ec4",
      "metadata": {
        "papermill": {
          "duration": 0.039639,
          "end_time": "2023-04-12T18:43:07.656177",
          "exception": false,
          "start_time": "2023-04-12T18:43:07.616538",
          "status": "completed"
        },
        "tags": [],
        "id": "9a328ec4"
      },
      "source": [
        "## Compile, Train and Evaluate the model"
      ]
    },
    {
      "cell_type": "code",
      "execution_count": null,
      "id": "901562de",
      "metadata": {
        "execution": {
          "iopub.execute_input": "2023-04-12T18:43:07.735587Z",
          "iopub.status.busy": "2023-04-12T18:43:07.735112Z",
          "iopub.status.idle": "2023-04-12T19:06:10.226115Z",
          "shell.execute_reply": "2023-04-12T19:06:10.225114Z"
        },
        "papermill": {
          "duration": 1382.533843,
          "end_time": "2023-04-12T19:06:10.228617",
          "exception": false,
          "start_time": "2023-04-12T18:43:07.694774",
          "status": "completed"
        },
        "tags": [],
        "id": "901562de",
        "outputId": "6ec48ae1-55e1-4487-d9ee-077bb0d1cfc4"
      },
      "outputs": [
        {
          "name": "stderr",
          "output_type": "stream",
          "text": [
            "/opt/conda/lib/python3.7/site-packages/ipykernel_launcher.py:20: UserWarning: `Model.fit_generator` is deprecated and will be removed in a future version. Please use `Model.fit`, which supports generators.\n"
          ]
        },
        {
          "name": "stdout",
          "output_type": "stream",
          "text": [
            "Epoch 1/15\n",
            "150/150 [==============================] - 106s 604ms/step - loss: 0.5078 - accuracy: 0.7919 - val_loss: 0.9443 - val_accuracy: 0.5000\n",
            "Epoch 2/15\n",
            "150/150 [==============================] - 88s 586ms/step - loss: 0.3127 - accuracy: 0.8994 - val_loss: 0.7211 - val_accuracy: 0.6027\n",
            "Epoch 3/15\n",
            "150/150 [==============================] - 89s 591ms/step - loss: 0.2816 - accuracy: 0.9112 - val_loss: 0.3978 - val_accuracy: 0.8527\n",
            "Epoch 4/15\n",
            "150/150 [==============================] - 89s 590ms/step - loss: 0.2390 - accuracy: 0.9194 - val_loss: 0.2665 - val_accuracy: 0.9091\n",
            "Epoch 5/15\n",
            "150/150 [==============================] - 89s 591ms/step - loss: 0.2216 - accuracy: 0.9256 - val_loss: 0.2147 - val_accuracy: 0.9268\n",
            "Epoch 6/15\n",
            "150/150 [==============================] - 89s 590ms/step - loss: 0.2047 - accuracy: 0.9348 - val_loss: 0.1761 - val_accuracy: 0.9428\n",
            "Epoch 7/15\n",
            "150/150 [==============================] - 89s 594ms/step - loss: 0.1979 - accuracy: 0.9381 - val_loss: 0.2418 - val_accuracy: 0.9343\n",
            "Epoch 8/15\n",
            "150/150 [==============================] - 89s 589ms/step - loss: 0.1898 - accuracy: 0.9442 - val_loss: 0.2948 - val_accuracy: 0.9352\n",
            "Epoch 9/15\n",
            "150/150 [==============================] - 88s 587ms/step - loss: 0.1831 - accuracy: 0.9396 - val_loss: 0.1562 - val_accuracy: 0.9428\n",
            "Epoch 10/15\n",
            "150/150 [==============================] - 88s 583ms/step - loss: 0.1705 - accuracy: 0.9435 - val_loss: 0.1861 - val_accuracy: 0.9444\n",
            "Epoch 11/15\n",
            "150/150 [==============================] - 88s 587ms/step - loss: 0.1675 - accuracy: 0.9431 - val_loss: 0.1873 - val_accuracy: 0.9444\n",
            "Epoch 12/15\n",
            "150/150 [==============================] - 88s 584ms/step - loss: 0.1642 - accuracy: 0.9429 - val_loss: 0.1864 - val_accuracy: 0.9444\n",
            "Epoch 13/15\n",
            "150/150 [==============================] - 87s 577ms/step - loss: 0.1460 - accuracy: 0.9504 - val_loss: 0.1347 - val_accuracy: 0.9562\n",
            "Epoch 14/15\n",
            "150/150 [==============================] - 87s 578ms/step - loss: 0.1377 - accuracy: 0.9529 - val_loss: 0.1366 - val_accuracy: 0.9529\n",
            "Epoch 15/15\n",
            "150/150 [==============================] - 87s 577ms/step - loss: 0.1241 - accuracy: 0.9556 - val_loss: 0.1400 - val_accuracy: 0.9588\n"
          ]
        }
      ],
      "source": [
        "# learning rate decay\n",
        "import tensorflow as tf\n",
        "lr_schedule = tf.keras.optimizers.schedules.ExponentialDecay(initial_learning_rate = 0.001,\n",
        "                                                         decay_steps = 5,\n",
        "                                                         decay_rate = 0.2)\n",
        "# compile the model\n",
        "model.compile(loss='categorical_crossentropy', \n",
        "             optimizer = Adam(learning_rate=0.00002),\n",
        "             metrics=['accuracy'])\n",
        "\n",
        "# calculate train_steps and val_steps\n",
        "train_steps = np.ceil(train_num_samples / train_batch_size)\n",
        "val_steps = np.ceil(val_num_samples / val_batch_size)\n",
        "#print(val_steps.dtype)\n",
        "# train the model\n",
        "history = model.fit_generator(train_gen,\n",
        "                             steps_per_epoch = train_steps,\n",
        "                             epochs = 15,\n",
        "                             validation_data = val_gen,\n",
        "                             validation_steps = val_steps)"
      ]
    },
    {
      "cell_type": "code",
      "execution_count": null,
      "id": "26b28600",
      "metadata": {
        "execution": {
          "iopub.execute_input": "2023-04-12T19:06:10.547160Z",
          "iopub.status.busy": "2023-04-12T19:06:10.546794Z",
          "iopub.status.idle": "2023-04-12T19:06:11.974239Z",
          "shell.execute_reply": "2023-04-12T19:06:11.973170Z"
        },
        "papermill": {
          "duration": 1.590818,
          "end_time": "2023-04-12T19:06:11.977039",
          "exception": false,
          "start_time": "2023-04-12T19:06:10.386221",
          "status": "completed"
        },
        "tags": [],
        "id": "26b28600",
        "outputId": "a2e9f63a-701e-403e-be4b-0581a1bd2409"
      },
      "outputs": [
        {
          "data": {
            "image/png": "[encoded data removed]",
            "text/plain": [
              "<Figure size 640x480 with 1 Axes>"
            ]
          },
          "metadata": {},
          "output_type": "display_data"
        },
        {
          "data": {
            "image/png": "[encoded data removed]",
            "text/plain": [
              "<Figure size 640x480 with 1 Axes>"
            ]
          },
          "metadata": {},
          "output_type": "display_data"
        }
      ],
      "source": [
        "# plot the accuracy of the model\n",
        "plt.plot(history.history['accuracy'])\n",
        "plt.plot(history.history['val_accuracy'])\n",
        "plt.title('model accuracy')\n",
        "plt.ylabel('accuracy')\n",
        "plt.xlabel('epochs')\n",
        "plt.legend(['train', 'val'], loc='upper left')\n",
        "plt.show()\n",
        "\n",
        "# plot the loss of the model\n",
        "plt.plot(history.history['loss'])\n",
        "plt.plot(history.history['val_loss'])\n",
        "plt.title('model loss')\n",
        "plt.ylabel('loss')\n",
        "plt.xlabel('epochs')\n",
        "plt.legend(['train','val'], loc='upper left')\n",
        "plt.show()\n",
        "\n",
        "# save the model\n",
        "model.save(\"face_mask_detection.h5\")"
      ]
    }
  ],
  "metadata": {
    "kernelspec": {
      "display_name": "Python 3",
      "language": "python",
      "name": "python3"
    },
    "language_info": {
      "codemirror_mode": {
        "name": "ipython",
        "version": 3
      },
      "file_extension": ".py",
      "mimetype": "text/x-python",
      "name": "python",
      "nbconvert_exporter": "python",
      "pygments_lexer": "ipython3",
      "version": "3.7.12"
    },
    "papermill": {
      "default_parameters": {},
      "duration": 1449.044187,
      "end_time": "2023-04-12T19:06:15.424152",
      "environment_variables": {},
      "exception": null,
      "input_path": "__notebook__.ipynb",
      "output_path": "__notebook__.ipynb",
      "parameters": {},
      "start_time": "2023-04-12T18:42:06.379965",
      "version": "2.4.0"
    },
    "colab": {
      "provenance": []
    }
  },
  "nbformat": 4,
  "nbformat_minor": 5
}